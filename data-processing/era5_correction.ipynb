{
 "cells": [
  {
   "cell_type": "markdown",
   "id": "2e420088-14b8-4023-90d4-425217d9a771",
   "metadata": {},
   "source": [
    "# ERA5 Correction via MintPy"
   ]
  },
  {
   "cell_type": "code",
   "execution_count": null,
   "id": "9ef89cff-f96b-474d-ab32-56e5634e359f",
   "metadata": {},
   "outputs": [],
   "source": []
  }
 ],
 "metadata": {
  "kernelspec": {
   "display_name": "aws-rtc-stac2",
   "language": "python",
   "name": "aws-rtc-stac2"
  },
  "language_info": {
   "codemirror_mode": {
    "name": "ipython",
    "version": 3
   },
   "file_extension": ".py",
   "mimetype": "text/x-python",
   "name": "python",
   "nbconvert_exporter": "python",
   "pygments_lexer": "ipython3",
   "version": "3.8.12"
  }
 },
 "nbformat": 4,
 "nbformat_minor": 5
}
