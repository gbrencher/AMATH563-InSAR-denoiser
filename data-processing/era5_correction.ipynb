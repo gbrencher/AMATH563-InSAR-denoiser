{
 "cells": [
  {
   "cell_type": "markdown",
   "id": "2e420088-14b8-4023-90d4-425217d9a771",
   "metadata": {},
   "source": [
    "# ERA5 Correction via MintPy"
   ]
  },
  {
   "cell_type": "code",
   "execution_count": 1,
   "id": "6568e51e-b8f7-45f1-b2e3-f8616b06a3ed",
   "metadata": {},
   "outputs": [],
   "source": [
    "# can try mintpy approach\n",
    "#!smallbaselineApp.py FernandinaSenDT128.txt --dostep correct_troposphere\n",
    "# can try barebones pyaps?\n",
    "#import PyAPS\n",
    "#!tropo_pyaps3.py -d 20151002 20151003 --hour 12 -m ERA5 -g inputs/geometryRadar.h5"
   ]
  },
  {
   "cell_type": "code",
   "execution_count": 2,
   "id": "9b27e7a9-d0b0-46de-807d-98310ca5ffcb",
   "metadata": {},
   "outputs": [],
   "source": [
    "#https://github.com/ASFHyP3/hyp3-docs/blob/develop/docs/tutorials/hyp3_insar_stack_for_ts_analysis.ipynb"
   ]
  },
  {
   "cell_type": "code",
   "execution_count": 59,
   "id": "11478b4f-78eb-4b78-b3ce-506a6aee5c05",
   "metadata": {},
   "outputs": [],
   "source": [
    "import mintpy\n",
    "from pathlib import Path\n",
    "from dateutil.parser import parse as parse_date\n",
    "from pathlib import Path\n",
    "from typing import List, Union\n",
    "from osgeo import gdal\n",
    "from pathlib import Path\n",
    "from typing import List, Union\n",
    "import os\n",
    "import glob"
   ]
  },
  {
   "cell_type": "code",
   "execution_count": 4,
   "id": "2957af80-cdff-458d-9104-004107baab66",
   "metadata": {},
   "outputs": [],
   "source": [
    "project_name = 'training'\n",
    "work_dir = Path.cwd() / project_name\n",
    "data_dir = work_dir / 'data'"
   ]
  },
  {
   "cell_type": "code",
   "execution_count": 5,
   "id": "729e3384-6529-481b-a4c8-d1e348a7b8a2",
   "metadata": {},
   "outputs": [],
   "source": [
    "data_dir.mkdir(parents=True, exist_ok=True)"
   ]
  },
  {
   "cell_type": "code",
   "execution_count": 6,
   "id": "ed109687-3d10-47f7-886c-f42916fb82da",
   "metadata": {},
   "outputs": [],
   "source": [
    "def get_common_overlap(file_list: List[Union[str, Path]]) -> List[float]:\n",
    "    \"\"\"Get the common overlap of  a list of GeoTIFF files\n",
    "    \n",
    "    Arg:\n",
    "        file_list: a list of GeoTIFF files\n",
    "    \n",
    "    Returns:\n",
    "         [ulx, uly, lrx, lry], the upper-left x, upper-left y, lower-right x, and lower-right y\n",
    "         corner coordinates of the common overlap\n",
    "    \"\"\"\n",
    "    \n",
    "    corners = [gdal.Info(str(dem), format='json')['cornerCoordinates'] for dem in file_list]\n",
    "\n",
    "    ulx = max(corner['upperLeft'][0] for corner in corners)\n",
    "    uly = min(corner['upperLeft'][1] for corner in corners)\n",
    "    lrx = min(corner['lowerRight'][0] for corner in corners)\n",
    "    lry = max(corner['lowerRight'][1] for corner in corners)\n",
    "    return [ulx, uly, lrx, lry]\n",
    "\n",
    "def clip_hyp3_products_to_common_overlap(data_dir: Union[str, Path], overlap: List[float]) -> None:\n",
    "    \"\"\"Clip all GeoTIFF files to their common overlap\n",
    "    \n",
    "    Args:\n",
    "        data_dir:\n",
    "            directory containing the GeoTIFF files to clip\n",
    "        overlap:\n",
    "            a list of the upper-left x, upper-left y, lower-right-x, and lower-tight y\n",
    "            corner coordinates of the common overlap\n",
    "    Returns: None\n",
    "    \"\"\"\n",
    "\n",
    "    \n",
    "    files_for_mintpy = ['_water_mask.tif', '_corr.tif', '_unw_phase.tif', '_dem.tif', '_lv_theta.tif', '_lv_phi.tif']\n",
    "\n",
    "    for extension in files_for_mintpy:\n",
    "\n",
    "        for file in data_dir.rglob(f'*{extension}'):\n",
    "\n",
    "            dst_file = file.parent / f'{file.stem}_clipped{file.suffix}'\n",
    "\n",
    "            gdal.Translate(destName=str(dst_file), srcDS=str(file), projWin=overlap)"
   ]
  },
  {
   "cell_type": "code",
   "execution_count": 7,
   "id": "4628d1bd-20e7-4204-aecf-7ed335303ae8",
   "metadata": {},
   "outputs": [],
   "source": [
    "files = data_dir.glob('*/*_dem.tif')\n",
    "overlap = get_common_overlap(files)\n",
    "clip_hyp3_products_to_common_overlap(data_dir, overlap)"
   ]
  },
  {
   "cell_type": "code",
   "execution_count": 8,
   "id": "9313183f-3b25-47d1-919b-a790da8b0b7c",
   "metadata": {},
   "outputs": [
    {
     "data": {
      "text/plain": [
       "928"
      ]
     },
     "execution_count": 8,
     "metadata": {},
     "output_type": "execute_result"
    }
   ],
   "source": [
    "mintpy_config = work_dir / 'mintpy_config.txt'\n",
    "mintpy_config.write_text(\n",
    "f\"\"\"\n",
    "mintpy.load.processor        = hyp3\n",
    "##---------interferogram datasets:\n",
    "mintpy.load.unwFile          = {data_dir}/*/*_unw_phase_clipped.tif\n",
    "mintpy.load.corFile          = {data_dir}/*/*_corr_clipped.tif\n",
    "##---------geometry datasets:\n",
    "mintpy.load.demFile          = {data_dir}/*/*_dem_clipped.tif\n",
    "mintpy.load.incAngleFile     = {data_dir}/*/*_lv_theta_clipped.tif\n",
    "mintpy.load.azAngleFile      = {data_dir}/*/*_lv_phi_clipped.tif\n",
    "mintpy.load.waterMaskFile    = {data_dir}/*/*_water_mask_clipped.tif\n",
    "\"\"\")"
   ]
  },
  {
   "cell_type": "code",
   "execution_count": 9,
   "id": "f27def95-73bd-4762-8b44-d7a6c475d382",
   "metadata": {},
   "outputs": [
    {
     "name": "stdout",
     "output_type": "stream",
     "text": [
      "MintPy version v1.3.3, date 2022-04-14\n",
      "--RUN-at-2022-05-26 15:21:13.801276--\n",
      "Current directory: /mnt/working/egagli/sw/repos/AMATH563-InSAR-denoiser/data-processing\n",
      "Run routine processing with smallbaselineApp.py on steps: ['load_data']\n",
      "Remaining steps: ['modify_network', 'reference_point', 'quick_overview', 'correct_unwrap_error', 'invert_network', 'correct_LOD', 'correct_SET', 'correct_troposphere', 'deramp', 'correct_topography', 'residual_RMS', 'reference_date', 'velocity', 'geocode', 'google_earth', 'hdfeos5']\n",
      "--------------------------------------------------\n",
      "Project name: mintpy_config\n",
      "Go to work directory: /mnt/working/egagli/sw/repos/AMATH563-InSAR-denoiser/data-processing/training\n",
      "copy default template file /mnt/working/egagli/sw/miniconda3/envs/mintpy/lib/python3.10/site-packages/mintpy/defaults/smallbaselineApp.cfg to work directory\n",
      "read custom template file: /mnt/working/egagli/sw/repos/AMATH563-InSAR-denoiser/data-processing/training/mintpy_config.txt\n",
      "update default template based on input custom template\n",
      "    mintpy.load.processor: auto --> hyp3\n",
      "    mintpy.load.unwFile: auto --> /mnt/working/egagli/sw/repos/AMATH563-InSAR-denoiser/data-processing/training/data/*/*_unw_phase_clipped.tif\n",
      "    mintpy.load.corFile: auto --> /mnt/working/egagli/sw/repos/AMATH563-InSAR-denoiser/data-processing/training/data/*/*_corr_clipped.tif\n",
      "    mintpy.load.demFile: auto --> /mnt/working/egagli/sw/repos/AMATH563-InSAR-denoiser/data-processing/training/data/*/*_dem_clipped.tif\n",
      "    mintpy.load.incAngleFile: auto --> /mnt/working/egagli/sw/repos/AMATH563-InSAR-denoiser/data-processing/training/data/*/*_lv_theta_clipped.tif\n",
      "    mintpy.load.azAngleFile: auto --> /mnt/working/egagli/sw/repos/AMATH563-InSAR-denoiser/data-processing/training/data/*/*_lv_phi_clipped.tif\n",
      "    mintpy.load.waterMaskFile: auto --> /mnt/working/egagli/sw/repos/AMATH563-InSAR-denoiser/data-processing/training/data/*/*_water_mask_clipped.tif\n",
      "copy mintpy_config.txt to inputs   directory for backup.\n",
      "copy smallbaselineApp.cfg to inputs   directory for backup.\n",
      "copy mintpy_config.txt to pic      directory for backup.\n",
      "copy smallbaselineApp.cfg to pic      directory for backup.\n",
      "read default template file: /mnt/working/egagli/sw/repos/AMATH563-InSAR-denoiser/data-processing/training/smallbaselineApp.cfg\n",
      "\n",
      "\n",
      "******************** step - load_data ********************\n",
      "\n",
      "load_data.py --template /mnt/working/egagli/sw/repos/AMATH563-InSAR-denoiser/data-processing/training/smallbaselineApp.cfg /mnt/working/egagli/sw/repos/AMATH563-InSAR-denoiser/data-processing/training/mintpy_config.txt --project mintpy_config\n",
      "processor : hyp3\n",
      "SAR platform/sensor : unknown from project name \"mintpy_config\"\n",
      "--------------------------------------------------\n",
      "prepare metadata files for hyp3 products\n",
      "prep_hyp3.py /mnt/working/egagli/sw/repos/AMATH563-InSAR-denoiser/data-processing/training/data/*/*_unw_phase_clipped.tif\n",
      "prep_hyp3.py /mnt/working/egagli/sw/repos/AMATH563-InSAR-denoiser/data-processing/training/data/*/*_corr_clipped.tif\n",
      "prep_hyp3.py /mnt/working/egagli/sw/repos/AMATH563-InSAR-denoiser/data-processing/training/data/*/*_dem_clipped.tif\n",
      "prep_hyp3.py /mnt/working/egagli/sw/repos/AMATH563-InSAR-denoiser/data-processing/training/data/*/*_lv_theta_clipped.tif\n",
      "prep_hyp3.py /mnt/working/egagli/sw/repos/AMATH563-InSAR-denoiser/data-processing/training/data/*/*_lv_phi_clipped.tif\n",
      "prep_hyp3.py /mnt/working/egagli/sw/repos/AMATH563-InSAR-denoiser/data-processing/training/data/*/*_water_mask_clipped.tif\n",
      "--------------------------------------------------\n",
      "searching interferometric pairs info\n",
      "input data files:\n",
      "unwrapPhase     : /mnt/working/egagli/sw/repos/AMATH563-InSAR-denoiser/data-processing/training/data/*/*_unw_phase_clipped.tif\n",
      "coherence       : /mnt/working/egagli/sw/repos/AMATH563-InSAR-denoiser/data-processing/training/data/*/*_corr_clipped.tif\n",
      "number of unwrapPhase     : 3\n",
      "number of coherence       : 3\n",
      "--------------------------------------------------\n",
      "searching geometry files info\n",
      "input data files:\n",
      "height          : /mnt/working/egagli/sw/repos/AMATH563-InSAR-denoiser/data-processing/training/data/S1AA_20190505T135154_20190517T135155_VVP012_INT80_G_weF_5C8F/S1AA_20190505T135154_20190517T135155_VVP012_INT80_G_weF_5C8F_dem_clipped.tif\n",
      "incidenceAngle  : /mnt/working/egagli/sw/repos/AMATH563-InSAR-denoiser/data-processing/training/data/S1AA_20190505T135154_20190517T135155_VVP012_INT80_G_weF_5C8F/S1AA_20190505T135154_20190517T135155_VVP012_INT80_G_weF_5C8F_lv_theta_clipped.tif\n",
      "azimuthAngle    : /mnt/working/egagli/sw/repos/AMATH563-InSAR-denoiser/data-processing/training/data/S1AA_20190505T135154_20190517T135155_VVP012_INT80_G_weF_5C8F/S1AA_20190505T135154_20190517T135155_VVP012_INT80_G_weF_5C8F_lv_phi_clipped.tif\n",
      "waterMask       : /mnt/working/egagli/sw/repos/AMATH563-InSAR-denoiser/data-processing/training/data/S1AA_20190505T135154_20190517T135155_VVP012_INT80_G_weF_5C8F/S1AA_20190505T135154_20190517T135155_VVP012_INT80_G_weF_5C8F_water_mask_clipped.tif\n",
      "--------------------------------------------------\n",
      "updateMode : True\n",
      "compression: None\n",
      "x/ystep: 1/1\n",
      "--------------------------------------------------\n",
      "create HDF5 file /mnt/working/egagli/sw/repos/AMATH563-InSAR-denoiser/data-processing/training/inputs/ifgramStack.h5 with w mode\n",
      "create dataset /unwrapPhase of <class 'numpy.float32'>   in size of (3, 2859, 3633) with compression = None\n",
      "[==================================================] 20190505_20190610    0s /     0s\n",
      "create dataset /coherence   of <class 'numpy.float32'>   in size of (3, 2859, 3633) with compression = None\n",
      "[==================================================] 20190505_20190610    0s /     0s\n",
      "create dataset /date        of <class 'numpy.bytes_'>    in size of (3, 2)\n",
      "create dataset /bperp       of <class 'numpy.float32'>   in size of (3,)\n",
      "create dataset /dropIfgram  of <class 'numpy.bool_'>     in size of (3,)\n",
      "add extra metadata: {'PROJECT_NAME': 'mintpy_config'}\n",
      "Finished writing to /mnt/working/egagli/sw/repos/AMATH563-InSAR-denoiser/data-processing/training/inputs/ifgramStack.h5\n",
      "--------------------------------------------------\n",
      "create HDF5 file /mnt/working/egagli/sw/repos/AMATH563-InSAR-denoiser/data-processing/training/inputs/geometryGeo.h5 with w mode\n",
      "create dataset /height             of <class 'numpy.float32'>   in size of (2859, 3633) with compression = lzf\n",
      "create dataset /incidenceAngle     of <class 'numpy.float32'>   in size of (2859, 3633) with compression = lzf\n",
      "    convert incidenceAngle  from Gamma (from horizontal in radian) to MintPy (from vertical in degree) convention.\n",
      "create dataset /azimuthAngle       of <class 'numpy.float32'>   in size of (2859, 3633) with compression = lzf\n",
      "create dataset /waterMask          of <class 'numpy.bool_'>     in size of (2859, 3633) with compression = lzf\n",
      "prepare slantRangeDistance ...\n",
      "    geocoded input, use incidenceAngle from file: S1AA_20190505T135154_20190517T135155_VVP012_INT80_G_weF_5C8F_lv_theta_clipped.tif\n",
      "    convert incidence angle from Gamma to MintPy convention.\n",
      "create dataset /slantRangeDistance of <class 'numpy.float32'>   in size of (2859, 3633) with compression = lzf\n",
      "Finished writing to /mnt/working/egagli/sw/repos/AMATH563-InSAR-denoiser/data-processing/training/inputs/geometryGeo.h5\n",
      "time used: 00 mins 0.9 secs.\n",
      "\n",
      "No lookup table info range/lat found in files.\n",
      "Input data seems to be geocoded. Lookup file not needed.\n",
      "Loaded dataset are processed by InSAR software: hyp3\n",
      "Loaded dataset is in GEO coordinates\n",
      "Interferograms Stack: /mnt/working/egagli/sw/repos/AMATH563-InSAR-denoiser/data-processing/training/inputs/ifgramStack.h5\n",
      "Geometry File       : /mnt/working/egagli/sw/repos/AMATH563-InSAR-denoiser/data-processing/training/inputs/geometryGeo.h5\n",
      "Lookup Table File   : None\n",
      "--------------------------------------------------\n",
      "All data needed found/loaded/copied. Processed 2-pass InSAR data can be removed.\n",
      "--------------------------------------------------\n",
      "updating ifgramStack.h5, geometryGeo.h5 metadata based on custom template file: mintpy_config.txt\n",
      "Go back to directory: /mnt/working/egagli/sw/repos/AMATH563-InSAR-denoiser/data-processing\n",
      "\n",
      "################################################\n",
      "   Normal end of smallbaselineApp processing!\n",
      "################################################\n",
      "Time used: 00 mins 0.9 secs\n",
      "\n"
     ]
    }
   ],
   "source": [
    "!smallbaselineApp.py --dir {work_dir} {mintpy_config} --dostep load_data"
   ]
  },
  {
   "cell_type": "code",
   "execution_count": 79,
   "id": "b16b93f5-23e0-4e5e-bbc1-dcfa09ed44ee",
   "metadata": {},
   "outputs": [],
   "source": [
    "directories = [os.path.abspath(x[0]) for x in os.walk(data_dir)]\n",
    "directories.remove(os.path.abspath(data_dir)) # If you don't want your main directory included\n",
    "directories.remove('/mnt/working/egagli/sw/repos/AMATH563-InSAR-denoiser/data-processing/training/data/S1AA_20190505T135154_20190517T135155_VVP012_INT80_G_weF_5C8F/.ipynb_checkpoints')\n",
    "geom_path = '../../inputs/geometryGeo.h5'"
   ]
  },
  {
   "cell_type": "code",
   "execution_count": 82,
   "id": "543c74b3-49a9-414a-afc5-57c11ebf81ee",
   "metadata": {},
   "outputs": [
    {
     "name": "stdout",
     "output_type": "stream",
     "text": [
      "weather model: ERA5 - dry (hydrostatic) and wet delay\n",
      "weather directory: /mnt/working/egagli/sw/repos/AMATH563-InSAR-denoiser/data-processing/training/data/S1AA_20190505T135154_20190517T135155_VVP012_INT80_G_weF_5C8F\n",
      "output tropospheric delay file: ../../inputs/ERA5.h5\n",
      "output corrected time-series file: S1AA_20190505T135154_20190517T135155_VVP012_INT80_G_weF_5C8F_unw_phase_ERA5.tif\n",
      "read dates/time info from file: S1AA_20190505T135154_20190517T135155_VVP012_INT80_G_weF_5C8F_unw_phase.tif\n",
      "Traceback (most recent call last):\n",
      "  File \"/mnt/working/egagli/sw/miniconda3/envs/mintpy/bin/tropo_pyaps3.py\", line 8, in <module>\n",
      "    sys.exit(main())\n",
      "  File \"/mnt/working/egagli/sw/miniconda3/envs/mintpy/lib/python3.10/site-packages/mintpy/tropo_pyaps3.py\", line 834, in main\n",
      "    read_inps2date_time(inps)\n",
      "  File \"/mnt/working/egagli/sw/miniconda3/envs/mintpy/lib/python3.10/site-packages/mintpy/tropo_pyaps3.py\", line 217, in read_inps2date_time\n",
      "    inps.date_list = ptime.yyyymmdd(atr['DATE12'].split('-'))\n",
      "KeyError: 'DATE12'\n"
     ]
    }
   ],
   "source": [
    "for i in directories:\n",
    "    os.chdir(i)         # Change working Directory\n",
    "    unw_filename = glob.glob('*_unw_phase.tif')[0]\n",
    "    #print(unw_filename)\n",
    "    #!pwd\n",
    "    !tropo_pyaps3.py -f $unw_filename -g $geom_path\n",
    "    break"
   ]
  },
  {
   "cell_type": "code",
   "execution_count": null,
   "id": "62d69c17-293b-4c53-947f-1fa667db5bc8",
   "metadata": {},
   "outputs": [],
   "source": []
  }
 ],
 "metadata": {
  "kernelspec": {
   "display_name": "Python [conda env:mintpy]",
   "language": "python",
   "name": "conda-env-mintpy-py"
  },
  "language_info": {
   "codemirror_mode": {
    "name": "ipython",
    "version": 3
   },
   "file_extension": ".py",
   "mimetype": "text/x-python",
   "name": "python",
   "nbconvert_exporter": "python",
   "pygments_lexer": "ipython3",
   "version": "3.10.4"
  }
 },
 "nbformat": 4,
 "nbformat_minor": 5
}
