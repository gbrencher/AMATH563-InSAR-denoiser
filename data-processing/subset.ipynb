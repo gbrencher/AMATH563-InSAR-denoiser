{
 "cells": [
  {
   "cell_type": "markdown",
   "id": "ae5b854b",
   "metadata": {},
   "source": [
    "# Subset scenes"
   ]
  },
  {
   "cell_type": "code",
   "execution_count": 62,
   "id": "2b208e1a",
   "metadata": {},
   "outputs": [],
   "source": [
    "import os\n",
    "import matplotlib.pyplot as plt\n",
    "import numpy as np\n",
    "import shapely\n",
    "import geopandas as gpd\n",
    "import rasterio as rio\n",
    "from rasterio.windows import Window\n",
    "import rasterio.mask \n",
    "import shutil"
   ]
  },
  {
   "cell_type": "code",
   "execution_count": 67,
   "id": "bf768730",
   "metadata": {},
   "outputs": [
    {
     "name": "stdout",
     "output_type": "stream",
     "text": [
      "working on:  S1AA_20190505T135154_20190622T135157_VVP048_INT80_G_weF_011A_los_disp.tif\n"
     ]
    }
   ],
   "source": [
    "# load, crop, and save rasters\n",
    "\n",
    "# list interferograms\n",
    "dirs = os.listdir('/Users/qbren/Desktop/uw_courses/2022_spring/inferring-structure/project/data_processing/data_raw_test')\n",
    "\n",
    "# loop through interferograms\n",
    "for i, idir in enumerate(dirs):\n",
    "    cwd = f'/Users/qbren/Desktop/uw_courses/2022_spring/inferring-structure/project/data_processing/data_raw_test/{idir}'\n",
    "    os.chdir(cwd)\n",
    "    \n",
    "    # select the line of sight displacement\n",
    "    allfiles = os.listdir(cwd)\n",
    "    for fn in allfiles:\n",
    "        if fn[-12:] == 'los_disp.tif':\n",
    "            tif = fn\n",
    "    tif_fn = f'/Users/qbren/Desktop/uw_courses/2022_spring/inferring-structure/project/data_processing/data_raw_test/{idir}/{tif}'\n",
    "     \n",
    "    xsize, ysize = 125, 125  # define the test image\n",
    "    print(\"working on: \", tif)\n",
    "    subset_number = 20  # define the number of subsets\n",
    "    subsets = 0\n",
    "    \n",
    "    # loop until subsetting is finished\n",
    "    while subsets < subset_number:\n",
    "        \n",
    "        # open src image\n",
    "        src = rio.open(tif_fn)\n",
    "        rs = src.read(1) # also open as np array\n",
    "        \n",
    "        # create bounds for new origin location\n",
    "        xmin, xmax = 0, src.width - xsize\n",
    "        ymin, ymax = 0, src.height - ysize\n",
    "        xoff, yoff = np.random.randint(xmin, xmax), np.random.randint(ymin, ymax)\n",
    "        \n",
    "        # only save if there are no nodata values in subset \n",
    "        if not 0.0 in rs[yoff:(yoff+ysize), xoff:(xoff+xsize)]:\n",
    "            window = Window(xoff, yoff, xsize, ysize)\n",
    "            transform = src.window_transform(window)\n",
    "\n",
    "            # write subset\n",
    "            profile = src.profile\n",
    "            profile.update({\n",
    "                'height': xsize,\n",
    "                'width': ysize,\n",
    "                'transform': transform})\n",
    "            subsets+=1 # update index\n",
    "        \n",
    "            out_fn = f'/Users/qbren/Desktop/uw_courses/2022_spring/inferring-structure/project/data_processing/data_crop/sub{subsets}nocorr_{tif}'\n",
    "\n",
    "            with rasterio.open(out_fn, 'w', **profile) as dst:\n",
    "                # Read the data from the window and write it to the output raster\n",
    "                dst.write(src.read(window=window))\n",
    "            src.close()"
   ]
  }
 ],
 "metadata": {
  "kernelspec": {
   "display_name": "Python 3 (ipykernel)",
   "language": "python",
   "name": "python3"
  },
  "language_info": {
   "codemirror_mode": {
    "name": "ipython",
    "version": 3
   },
   "file_extension": ".py",
   "mimetype": "text/x-python",
   "name": "python",
   "nbconvert_exporter": "python",
   "pygments_lexer": "ipython3",
   "version": "3.9.12"
  }
 },
 "nbformat": 4,
 "nbformat_minor": 5
}
